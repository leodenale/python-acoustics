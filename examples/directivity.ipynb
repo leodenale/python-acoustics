{
  "nbformat": 4,
  "nbformat_minor": 0,
  "metadata": {
    "colab": {
      "name": "directivity.ipynb",
      "provenance": [],
      "include_colab_link": true
    },
    "kernelspec": {
      "name": "python3",
      "display_name": "Python 3"
    }
  },
  "cells": [
    {
      "cell_type": "markdown",
      "metadata": {
        "id": "view-in-github",
        "colab_type": "text"
      },
      "source": [
        "<a href=\"https://colab.research.google.com/github/leodenale/python-acoustics/blob/master/examples/directivity.ipynb\" target=\"_parent\"><img src=\"https://colab.research.google.com/assets/colab-badge.svg\" alt=\"Open In Colab\"/></a>"
      ]
    },
    {
      "cell_type": "markdown",
      "metadata": {
        "id": "6D8lZMynPKjR",
        "colab_type": "text"
      },
      "source": [
        "#Directivity patterns"
      ]
    },
    {
      "cell_type": "markdown",
      "metadata": {
        "id": "5XxAmjdhPKjU",
        "colab_type": "text"
      },
      "source": [
        "In this notebook we have a look at several directivity patterns."
      ]
    },
    {
      "cell_type": "code",
      "metadata": {
        "id": "cdVsa8n1PKjV",
        "colab_type": "code",
        "colab": {
          "base_uri": "https://localhost:8080/",
          "height": 247
        },
        "outputId": "cf40cc3d-6244-4c2e-8fef-e56cd72393bc"
      },
      "source": [
        "# Install acoustics package\n",
        "!pip install acoustics"
      ],
      "execution_count": 4,
      "outputs": [
        {
          "output_type": "stream",
          "text": [
            "Requirement already satisfied: acoustics in /usr/local/lib/python3.6/dist-packages (0.2.3)\n",
            "Requirement already satisfied: numpy>=1.8 in /usr/local/lib/python3.6/dist-packages (from acoustics) (1.17.5)\n",
            "Requirement already satisfied: scipy>=0.16 in /usr/local/lib/python3.6/dist-packages (from acoustics) (1.4.1)\n",
            "Requirement already satisfied: matplotlib in /usr/local/lib/python3.6/dist-packages (from acoustics) (3.1.3)\n",
            "Requirement already satisfied: six>=1.4.1 in /usr/local/lib/python3.6/dist-packages (from acoustics) (1.12.0)\n",
            "Requirement already satisfied: pandas>=0.15 in /usr/local/lib/python3.6/dist-packages (from acoustics) (0.25.3)\n",
            "Requirement already satisfied: tabulate in /usr/local/lib/python3.6/dist-packages (from acoustics) (0.8.6)\n",
            "Requirement already satisfied: cycler>=0.10 in /usr/local/lib/python3.6/dist-packages (from matplotlib->acoustics) (0.10.0)\n",
            "Requirement already satisfied: pyparsing!=2.0.4,!=2.1.2,!=2.1.6,>=2.0.1 in /usr/local/lib/python3.6/dist-packages (from matplotlib->acoustics) (2.4.6)\n",
            "Requirement already satisfied: python-dateutil>=2.1 in /usr/local/lib/python3.6/dist-packages (from matplotlib->acoustics) (2.6.1)\n",
            "Requirement already satisfied: kiwisolver>=1.0.1 in /usr/local/lib/python3.6/dist-packages (from matplotlib->acoustics) (1.1.0)\n",
            "Requirement already satisfied: pytz>=2017.2 in /usr/local/lib/python3.6/dist-packages (from pandas>=0.15->acoustics) (2018.9)\n",
            "Requirement already satisfied: setuptools in /usr/local/lib/python3.6/dist-packages (from kiwisolver>=1.0.1->matplotlib->acoustics) (45.1.0)\n"
          ],
          "name": "stdout"
        }
      ]
    },
    {
      "cell_type": "code",
      "metadata": {
        "id": "VPsGT7oSXJQA",
        "colab_type": "code",
        "colab": {}
      },
      "source": [
        "%matplotlib inline\n",
        "import matplotlib.pyplot as plt\n",
        "from acoustics.directivity import *"
      ],
      "execution_count": 0,
      "outputs": []
    },
    {
      "cell_type": "markdown",
      "metadata": {
        "id": "e4_qBix3PKjY",
        "colab_type": "text"
      },
      "source": [
        "##Omni-directional"
      ]
    },
    {
      "cell_type": "markdown",
      "metadata": {
        "id": "-fUwxhgOPKjZ",
        "colab_type": "text"
      },
      "source": [
        "The first directivity pattern we consider is the simplest of them all, an omni-directional pattern. The omni-directional response is equal in all directions."
      ]
    },
    {
      "cell_type": "code",
      "metadata": {
        "id": "98QjY3YEPKja",
        "colab_type": "code",
        "colab": {
          "base_uri": "https://localhost:8080/",
          "height": 185
        },
        "outputId": "d224c2f6-ee48-4d85-83c0-3c8bc9563afd"
      },
      "source": [
        "d = Omni()\n",
        "fig = d.plot(sphere=True)"
      ],
      "execution_count": 9,
      "outputs": [
        {
          "output_type": "error",
          "ename": "TypeError",
          "evalue": "ignored",
          "traceback": [
            "\u001b[0;31m---------------------------------------------------------------------------\u001b[0m",
            "\u001b[0;31mTypeError\u001b[0m                                 Traceback (most recent call last)",
            "\u001b[0;32m<ipython-input-9-6d339e2faf76>\u001b[0m in \u001b[0;36m<module>\u001b[0;34m()\u001b[0m\n\u001b[1;32m      1\u001b[0m \u001b[0md\u001b[0m \u001b[0;34m=\u001b[0m \u001b[0mOmni\u001b[0m\u001b[0;34m(\u001b[0m\u001b[0;34m)\u001b[0m\u001b[0;34m\u001b[0m\u001b[0;34m\u001b[0m\u001b[0m\n\u001b[0;32m----> 2\u001b[0;31m \u001b[0mfig\u001b[0m \u001b[0;34m=\u001b[0m \u001b[0md\u001b[0m\u001b[0;34m.\u001b[0m\u001b[0mplot\u001b[0m\u001b[0;34m(\u001b[0m\u001b[0msphere\u001b[0m\u001b[0;34m=\u001b[0m\u001b[0;32mTrue\u001b[0m\u001b[0;34m)\u001b[0m\u001b[0;34m\u001b[0m\u001b[0;34m\u001b[0m\u001b[0m\n\u001b[0m",
            "\u001b[0;31mTypeError\u001b[0m: plot() got an unexpected keyword argument 'sphere'"
          ]
        }
      ]
    },
    {
      "cell_type": "markdown",
      "metadata": {
        "id": "kDTxnm0QPKje",
        "colab_type": "text"
      },
      "source": [
        "##Uni-directional: Cardioid"
      ]
    },
    {
      "cell_type": "markdown",
      "metadata": {
        "id": "GRVFSHPfPKjf",
        "colab_type": "text"
      },
      "source": [
        "A cardioid pattern is a uni-directional pattern.\n",
        "\n",
        "The response is given by $D = a \\left[ \\cos{\\left( k \\theta \\right)} + 1 \\right] $."
      ]
    },
    {
      "cell_type": "code",
      "metadata": {
        "id": "6OArFgVLPKjh",
        "colab_type": "code",
        "colab": {
          "base_uri": "https://localhost:8080/",
          "height": 334
        },
        "outputId": "8ac59c49-9bd8-4bc9-9d97-2118b4943d96"
      },
      "source": [
        "d = Cardioid()\n",
        "fig = d.plot()"
      ],
      "execution_count": 10,
      "outputs": [
        {
          "output_type": "error",
          "ename": "TypeError",
          "evalue": "ignored",
          "traceback": [
            "\u001b[0;31m---------------------------------------------------------------------------\u001b[0m",
            "\u001b[0;31mTypeError\u001b[0m                                 Traceback (most recent call last)",
            "\u001b[0;32m<ipython-input-10-e19af40b5771>\u001b[0m in \u001b[0;36m<module>\u001b[0;34m()\u001b[0m\n\u001b[1;32m      1\u001b[0m \u001b[0md\u001b[0m \u001b[0;34m=\u001b[0m \u001b[0mCardioid\u001b[0m\u001b[0;34m(\u001b[0m\u001b[0;34m)\u001b[0m\u001b[0;34m\u001b[0m\u001b[0;34m\u001b[0m\u001b[0m\n\u001b[0;32m----> 2\u001b[0;31m \u001b[0mfig\u001b[0m \u001b[0;34m=\u001b[0m \u001b[0md\u001b[0m\u001b[0;34m.\u001b[0m\u001b[0mplot\u001b[0m\u001b[0;34m(\u001b[0m\u001b[0;34m)\u001b[0m\u001b[0;34m\u001b[0m\u001b[0;34m\u001b[0m\u001b[0m\n\u001b[0m",
            "\u001b[0;32m/usr/local/lib/python3.6/dist-packages/acoustics/directivity.py\u001b[0m in \u001b[0;36mplot\u001b[0;34m(***failed resolving arguments***)\u001b[0m\n\u001b[1;32m    149\u001b[0m         \u001b[0;31m# TODO: filename\u001b[0m\u001b[0;34m\u001b[0m\u001b[0;34m\u001b[0m\u001b[0;34m\u001b[0m\u001b[0m\n\u001b[1;32m    150\u001b[0m         \u001b[0;32mdel\u001b[0m \u001b[0mfilename\u001b[0m\u001b[0;34m\u001b[0m\u001b[0;34m\u001b[0m\u001b[0m\n\u001b[0;32m--> 151\u001b[0;31m         \u001b[0;32mreturn\u001b[0m \u001b[0mplot\u001b[0m\u001b[0;34m(\u001b[0m\u001b[0mself\u001b[0m\u001b[0;34m,\u001b[0m \u001b[0minclude_rotation\u001b[0m\u001b[0;34m)\u001b[0m\u001b[0;34m\u001b[0m\u001b[0;34m\u001b[0m\u001b[0m\n\u001b[0m\u001b[1;32m    152\u001b[0m \u001b[0;34m\u001b[0m\u001b[0m\n\u001b[1;32m    153\u001b[0m \u001b[0;34m\u001b[0m\u001b[0m\n",
            "\u001b[0;32m/usr/local/lib/python3.6/dist-packages/acoustics/directivity.py\u001b[0m in \u001b[0;36mplot\u001b[0;34m(d, sphere)\u001b[0m\n\u001b[1;32m    252\u001b[0m \u001b[0;34m\u001b[0m\u001b[0m\n\u001b[1;32m    253\u001b[0m     \u001b[0;31m# Directivity strength. Real-valued. Can be positive and negative.\u001b[0m\u001b[0;34m\u001b[0m\u001b[0;34m\u001b[0m\u001b[0;34m\u001b[0m\u001b[0m\n\u001b[0;32m--> 254\u001b[0;31m     \u001b[0mdr\u001b[0m \u001b[0;34m=\u001b[0m \u001b[0md\u001b[0m\u001b[0;34m.\u001b[0m\u001b[0musing_spherical\u001b[0m\u001b[0;34m(\u001b[0m\u001b[0mtheta\u001b[0m\u001b[0;34m,\u001b[0m \u001b[0mphi\u001b[0m\u001b[0;34m)\u001b[0m\u001b[0;34m\u001b[0m\u001b[0;34m\u001b[0m\u001b[0m\n\u001b[0m\u001b[1;32m    255\u001b[0m \u001b[0;34m\u001b[0m\u001b[0m\n\u001b[1;32m    256\u001b[0m     \u001b[0;32mif\u001b[0m \u001b[0msphere\u001b[0m\u001b[0;34m:\u001b[0m\u001b[0;34m\u001b[0m\u001b[0;34m\u001b[0m\u001b[0m\n",
            "\u001b[0;31mTypeError\u001b[0m: using_spherical() missing 1 required positional argument: 'phi'"
          ]
        }
      ]
    },
    {
      "cell_type": "markdown",
      "metadata": {
        "id": "ZcjVewt5PKjk",
        "colab_type": "text"
      },
      "source": [
        "##Bi-directional: Figure Eight"
      ]
    },
    {
      "cell_type": "markdown",
      "metadata": {
        "id": "CjAe4bdPPKjl",
        "colab_type": "text"
      },
      "source": [
        "The figure eight is a bi-directional pattern."
      ]
    },
    {
      "cell_type": "code",
      "metadata": {
        "id": "gz0sEemVPKjl",
        "colab_type": "code",
        "colab": {},
        "outputId": "23d820a5-730e-4b9f-f163-761996222ad1"
      },
      "source": [
        "d = FigureEight()\n",
        "fig = d.plot()"
      ],
      "execution_count": 0,
      "outputs": [
        {
          "output_type": "display_data",
          "data": {},
          "metadata": {
            "tags": []
          }
        }
      ]
    },
    {
      "cell_type": "markdown",
      "metadata": {
        "id": "Lkdw3jwSPKjo",
        "colab_type": "text"
      },
      "source": [
        "Besides the default representation it is also possible to plot the directivity on the surface of a sphere."
      ]
    },
    {
      "cell_type": "code",
      "metadata": {
        "id": "ELC5_ZN4PKjp",
        "colab_type": "code",
        "colab": {},
        "outputId": "75b8e1ca-4540-40fd-c04c-a0c94a98c003"
      },
      "source": [
        "fig = d.plot(sphere=True)"
      ],
      "execution_count": 0,
      "outputs": [
        {
          "output_type": "display_data",
          "data": {},
          "metadata": {
            "tags": []
          }
        }
      ]
    },
    {
      "cell_type": "markdown",
      "metadata": {
        "id": "8t-jWwBGPKjs",
        "colab_type": "text"
      },
      "source": [
        "A directivity pattern can be sampled using spherical angles, the inclination angle $\\theta$ and the azimuth $\\phi$, as well as a Cartesian (unit) vector."
      ]
    },
    {
      "cell_type": "code",
      "metadata": {
        "id": "VMw9kOWjPKjt",
        "colab_type": "code",
        "colab": {
          "base_uri": "https://localhost:8080/",
          "height": 167
        },
        "outputId": "d4f5b91d-bbda-44f4-9d57-0e6f52b54b26"
      },
      "source": [
        "d.using_spherical(np.pi/4.0, np.pi/4.0)"
      ],
      "execution_count": 11,
      "outputs": [
        {
          "output_type": "error",
          "ename": "TypeError",
          "evalue": "ignored",
          "traceback": [
            "\u001b[0;31m---------------------------------------------------------------------------\u001b[0m",
            "\u001b[0;31mTypeError\u001b[0m                                 Traceback (most recent call last)",
            "\u001b[0;32m<ipython-input-11-2b08317c6c34>\u001b[0m in \u001b[0;36m<module>\u001b[0;34m()\u001b[0m\n\u001b[0;32m----> 1\u001b[0;31m \u001b[0md\u001b[0m\u001b[0;34m.\u001b[0m\u001b[0musing_spherical\u001b[0m\u001b[0;34m(\u001b[0m\u001b[0mnp\u001b[0m\u001b[0;34m.\u001b[0m\u001b[0mpi\u001b[0m\u001b[0;34m/\u001b[0m\u001b[0;36m4.0\u001b[0m\u001b[0;34m,\u001b[0m \u001b[0mnp\u001b[0m\u001b[0;34m.\u001b[0m\u001b[0mpi\u001b[0m\u001b[0;34m/\u001b[0m\u001b[0;36m4.0\u001b[0m\u001b[0;34m)\u001b[0m\u001b[0;34m\u001b[0m\u001b[0;34m\u001b[0m\u001b[0m\n\u001b[0m",
            "\u001b[0;31mTypeError\u001b[0m: using_spherical() missing 1 required positional argument: 'phi'"
          ]
        }
      ]
    },
    {
      "cell_type": "code",
      "metadata": {
        "id": "x0ArfWqzPKjv",
        "colab_type": "code",
        "colab": {},
        "outputId": "8b21656f-a4cb-4f9f-f664-7fd74a727648"
      },
      "source": [
        "d.using_cartesian(0.5, 0.5, 0.5)"
      ],
      "execution_count": 0,
      "outputs": [
        {
          "output_type": "execute_result",
          "data": {},
          "metadata": {
            "tags": []
          },
          "execution_count": 7
        }
      ]
    },
    {
      "cell_type": "markdown",
      "metadata": {
        "id": "FVPnKXmePKjy",
        "colab_type": "text"
      },
      "source": [
        "##Spherical Harmonics"
      ]
    },
    {
      "cell_type": "markdown",
      "metadata": {
        "id": "auq34kj0PKjz",
        "colab_type": "text"
      },
      "source": [
        "Spherical harmonics can be used to represent any multipole. The omni-directional pattern shown above corresponds to a monopole, which is a spherical harmonic of degree 0 and order 0.\n",
        "The figure eight shown above is a dipole having degree 1. The order of that specific figure eight is 0."
      ]
    },
    {
      "cell_type": "code",
      "metadata": {
        "id": "MUGYraoMPKjz",
        "colab_type": "code",
        "colab": {},
        "outputId": "18a248d6-856c-467d-834b-a6812e715f75"
      },
      "source": [
        "d = SphericalHarmonic(m=0, n=1)\n",
        "fig = d.plot()"
      ],
      "execution_count": 0,
      "outputs": [
        {
          "output_type": "display_data",
          "data": {},
          "metadata": {
            "tags": []
          }
        }
      ]
    },
    {
      "cell_type": "markdown",
      "metadata": {
        "id": "o_N4uvvoPKj2",
        "colab_type": "text"
      },
      "source": [
        "Spherical harmonics of degree 2 correspond to a quadrupole"
      ]
    },
    {
      "cell_type": "code",
      "metadata": {
        "id": "htYnRWNtPKj2",
        "colab_type": "code",
        "colab": {},
        "outputId": "ede1e40b-ef14-4b2d-a622-93d9d57b8bd1"
      },
      "source": [
        "d = SphericalHarmonic(m=1, n=2)\n",
        "fig = d.plot()"
      ],
      "execution_count": 0,
      "outputs": [
        {
          "output_type": "display_data",
          "data": {},
          "metadata": {
            "tags": []
          }
        }
      ]
    },
    {
      "cell_type": "markdown",
      "metadata": {
        "id": "2-uYZYcaPKj5",
        "colab_type": "text"
      },
      "source": [
        "and spherical harmonics of degree 3 correspond to a Octupole."
      ]
    },
    {
      "cell_type": "code",
      "metadata": {
        "id": "KLV413NKPKj6",
        "colab_type": "code",
        "colab": {},
        "outputId": "0874ea44-cabc-4f5f-dde2-93f188d1fd82"
      },
      "source": [
        "d = SphericalHarmonic(m=-2, n=3)\n",
        "fig = d.plot()"
      ],
      "execution_count": 0,
      "outputs": [
        {
          "output_type": "display_data",
          "data": {},
          "metadata": {
            "tags": []
          }
        }
      ]
    }
  ]
}